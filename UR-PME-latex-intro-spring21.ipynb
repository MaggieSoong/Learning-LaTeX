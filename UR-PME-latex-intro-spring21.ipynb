{
 "cells": [
  {
   "cell_type": "markdown",
   "metadata": {},
   "source": [
    "### -1. Acknowledgements\n",
    "adapted from [github:`mpawliuk/Learning-`$\\mathrm{\\LaTeX}$](https://github.com/mpawliuk/Learning-LaTeX) by `aalok-sathe`\n",
    "\n",
    "this is an interactive Jupyter notebook to be used for an introduction to $\\mathrm{\\LaTeX}$ (equations) as rendered in Markdown. please read through the (already rendered) cells of text, and execute cells wherever indicated. \n",
    "\n",
    "to execute a cell when prompted, do:\n",
    "1. **highlight** the cell (you can do this either by clicking on it or using arrow keys to navigate)\n",
    "2. once you have highlighted the cell, **run it!** (use Ctrl+Enter or Cmd+Enter, or use the \"Run\" button in the panel above)"
   ]
  },
  {
   "cell_type": "markdown",
   "metadata": {},
   "source": [
    "## 0. Learning Outcomes\n",
    "\n",
    "At the end of this activity, you will be able to:\n",
    "\n",
    "1. write basic mathematical formulas\n",
    "2. find appropriate $\\mathrm{\\LaTeX}$ code for unknown symbols.\n",
    "3. self-help $\\mathrm{\\LaTeX}$ questions"
   ]
  },
  {
   "cell_type": "markdown",
   "metadata": {},
   "source": [
    "## 1. Introduction\n",
    "\n",
    "You're about to learn how to use LaTeX (pronounced ``Lay-Tech`` or ``Laa-Tech``), a computer language used by mathematicians and physicists to nicely format mathematical expressions. \n",
    "\n",
    "### Why $\\mathrm{\\LaTeX}$?\n",
    "\n",
    "$\\mathrm{\\LaTeX}$ makes math **easy to read**, **clear**, **beautiful**!\n"
   ]
  },
  {
   "cell_type": "markdown",
   "metadata": {},
   "source": [
    "#### i. Easy to read\n",
    "\n",
    "what is the difference between\n",
    "\n",
    "> √(1 + 10/5) = 3\n",
    "\n",
    "and\n"
   ]
  },
  {
   "cell_type": "markdown",
   "metadata": {},
   "source": [
    "`run this cell to see the result!`\n",
    "\n",
    "$ \\sqrt{1 + \\frac{10}{5}} = 3$"
   ]
  },
  {
   "cell_type": "markdown",
   "metadata": {},
   "source": [
    "#### ii. Clear\n",
    "\n",
    "- It gets extremely hard to parse through unformatted math. Especially as you progress in your courses.\n",
    "\n",
    "> F(k;L) = sum(x=0, k, (L^x e^(-L))/x!)\n",
    "\n",
    "what have I written here? now try this:"
   ]
  },
  {
   "cell_type": "markdown",
   "metadata": {},
   "source": [
    "`run this cell to see the result!`\n",
    "\n",
    "$ F(k; L) = \\sum_{x=0}^{k} \\frac{L^x e^{-L}}{x!}$"
   ]
  },
  {
   "cell_type": "markdown",
   "metadata": {},
   "source": [
    "#### iii. Beautiful\n",
    "\n",
    "$\n",
    " z = \\overbrace{\n",
    "   \\underbrace{x}_\\text{real} + i\n",
    "   \\underbrace{y}_\\text{imaginary}\n",
    "  }^\\text{complex number}\n",
    "\\quad\\quad\n",
    "y = a + f(\\underbrace{b x}_{\n",
    "                    \\ge 0 \\text{ by assumption}}) $"
   ]
  },
  {
   "cell_type": "markdown",
   "metadata": {},
   "source": [
    "You can write entire documents in LaTeX, but here we'll focus on equations.\n",
    "\n",
    "### Tasks 1\n",
    "\n",
    "* **Task 1.1**. Identify two differences in the following picture, where the top one is using MS Word, and the bottom one is using LaTeX.\n",
    "* **Task 1.2**. Think of a context where the visual differences might matter to your audience.\n",
    "\n",
    "> ![](http://data-mining.philippe-fournier-viger.com/wp-content/uploads/2017/02/word_vs_latex2-Copy.png)\n",
    "\n",
    "> [Source. Also see here for further discussion.](http://data-mining.philippe-fournier-viger.com/latex-for-making-good-looking-research-papers/)\n"
   ]
  },
  {
   "cell_type": "markdown",
   "metadata": {},
   "source": [
    "## 3. The LaTeX environment\n",
    "\n",
    "To tell your computer to interpret a formula as a LaTeX formula, you need to use \n",
    "\n",
    "> ```$\\sqrt{4} = \\pm 2 $```\n",
    "\n",
    "> $\\sqrt{4} = \\pm 2 $\n",
    "\n",
    "The ```$``` act as left and right brackets. You can also use double-dollar signs ```$$``` as brackets, and this will make the LaTeX appear on its own line. (Why might you want to put math on its own line?)\n",
    "\n",
    "> ```My favourite formula is $$\\sqrt{4} = \\pm 2 $$ because I like diagonals.```\n",
    "\n",
    "> My favourite formula is $$\\sqrt{4} = \\pm 2 $$ because I like diagonals.\n",
    "\n",
    "### Tasks 3\n",
    "\n",
    "* **Task 3.1**. Make your own LaTeX formula that says √(9+16) = √25 = ±5."
   ]
  },
  {
   "cell_type": "markdown",
   "metadata": {},
   "source": [
    "[**your formula here.**]\n",
    "\n",
    "$$ "
   ]
  },
  {
   "cell_type": "markdown",
   "metadata": {},
   "source": [
    "* **Task 3.2**. Fix the following formula:"
   ]
  },
  {
   "cell_type": "markdown",
   "metadata": {},
   "source": [
    "In grade 3 I learned that $$\\sqrt{2} \\approx 1.41$"
   ]
  },
  {
   "cell_type": "markdown",
   "metadata": {},
   "source": [
    "* **Task 3.3**. Format the following paragraph in a nice way. Decide when to use in-line math and when the math should appear on its own line."
   ]
  },
  {
   "cell_type": "markdown",
   "metadata": {},
   "source": [
    "**Definition**. A function f(x,u) satisfies the **wave equation** if \\frac{\\partial^2 f}{\\partial x^2} = \\frac{\\partial^2 f}{\\partial u^2} where x,u are independant variables."
   ]
  },
  {
   "cell_type": "markdown",
   "metadata": {},
   "source": [
    "## 4. Powers and subscripts\n",
    "\n",
    "To raise a number to a power, use the carat ```^```.\n",
    "\n",
    "> ```$ x^2 = 4 $ has solutions $ x = \\pm 2$ ```\n",
    "\n",
    "> $ x^2 = 4 $ has solutions $ x = \\pm 2$  \n",
    "\n",
    "You may need to bracket it if you have a power with more than one digit.\n",
    "\n",
    "> ```A googol is $ 10^{100}$, which is a 1 followed by 100 zeros.```\n",
    "\n",
    "> A googol is $ 10^{100}$, which is a 1 followed by 100 zeros.\n",
    "\n",
    "You can stack powers, but sometimes you will want to use brackets to clarify.\n",
    "\n",
    "> ```$a^{b^c} = a^{bc}$```\n",
    "\n",
    "> $a^{b^c} = a^{bc}$\n",
    "\n",
    "Subscripts work in the same way.\n",
    "\n",
    "> ```The third term in the sequence is $ a_3 = \\sqrt{3} $ and the 23rd is $ a_{23} = \\sqrt{23}$.```\n",
    "\n",
    "> The third term in the sequence is $ a_3 = \\sqrt{3} $ and the 23rd is $ a_{23} = \\sqrt{23}$.\n",
    "\n",
    "If you mix superscripts and subscripts, then LaTeX will format them properly; the order doesn't matter.\n",
    "\n",
    "> ```If $a_3 = \\sqrt{3}$, then $ a_3^2 = 3$.```\n",
    "\n",
    "> If $a_3 = \\sqrt{3}$, then $ a_3^2 = 3$.\n",
    "\n",
    "### Tasks 4\n",
    "\n",
    "* **Task 4.1**. Make your own LaTeX formula that says \"a (subscript) n is 2 to the power of n\"."
   ]
  },
  {
   "cell_type": "markdown",
   "metadata": {},
   "source": [
    "[**Double click here. Your formula here.**]"
   ]
  },
  {
   "cell_type": "markdown",
   "metadata": {},
   "source": [
    "* **Task 4.2**. Fix the following formula:"
   ]
  },
  {
   "cell_type": "markdown",
   "metadata": {},
   "source": [
    "In grade 4 I learned that the mass of the earth is $ 5.972 \\times 10^24 $ kg."
   ]
  },
  {
   "cell_type": "markdown",
   "metadata": {},
   "source": [
    "## 5. Fractions\n",
    "\n",
    "There are two ways to make fractions. Here's the most flexible way, but it has a lot of parenthesis.\n",
    "\n",
    "> ```$\\frac{10}{5} = 2$```\n",
    "\n",
    "> $\\frac{10}{5} = 2$\n",
    "\n",
    "If your symbols are only one character, then you can drop the brackets.\n",
    "\n",
    "> ```$ \\frac93 = 3$ and $ \\frac\\pi2 > 1$```\n",
    "\n",
    "> $ \\frac93 = 3$ and $ \\frac\\pi2 > 1$\n",
    "\n",
    "### Tasks 5\n",
    "\n",
    "* **Task 5.1**. Make your own LaTeX formula that expresses the fact that \"[a half is one sixth more than a third](https://answers.yahoo.com/question/index?qid=20130423231730AAb5IeD&guccounter=1)\"."
   ]
  },
  {
   "cell_type": "markdown",
   "metadata": {},
   "source": [
    "[**Double click here. Your formula here.**]"
   ]
  },
  {
   "cell_type": "markdown",
   "metadata": {},
   "source": [
    "* **Challenge**. Write the [quadratic formula](https://en.wikipedia.org/wiki/Quadratic_formula)!\n",
    "\n",
    "![](https://upload.wikimedia.org/wikipedia/commons/thumb/c/c4/Quadratic_formula.svg/2000px-Quadratic_formula.svg.png)"
   ]
  },
  {
   "cell_type": "markdown",
   "metadata": {},
   "source": [
    "[**Double click here. Your quadratic formula here.**]"
   ]
  },
  {
   "cell_type": "markdown",
   "metadata": {},
   "source": [
    "## 6. Greek letters\n",
    "\n",
    "You can use Greek letters in LaTeX by backslashing and writing the name of the letter. If you capitalize the word it will give you an uppercase Greek letter!\n",
    "\n",
    "> ```$\\pi \\approx 3.14 \\ldots $```    \n",
    "> ```$\\sin^2 \\theta + \\cos^2 \\theta = 1$```    \n",
    "> ```$\\Delta x = x_{n+1} - x_n $```    \n",
    "\n",
    "> $\\pi \\approx 3.14 \\ldots $    \n",
    "> $\\sin^2 \\theta + \\cos^2 \\theta = 1$    \n",
    "> $\\Delta x = x_{n+1} - x_n $    \n",
    "\n",
    "### Tasks 6\n",
    "\n",
    "* **Task 6.1**. Write down a LaTeX formula that says that [sine is an odd function](https://www.mathsisfun.com/algebra/functions-odd-even.html)."
   ]
  },
  {
   "cell_type": "markdown",
   "metadata": {},
   "source": [
    "[**Double click here. Your formula here.**]"
   ]
  },
  {
   "cell_type": "markdown",
   "metadata": {},
   "source": [
    "* **Task 6.2**. Write down the relationship that [the golden ratio has with its inverse](https://en.wikipedia.org/wiki/Golden_ratio#Calculation)."
   ]
  },
  {
   "cell_type": "markdown",
   "metadata": {},
   "source": [
    "[**Double click here. Your formula here.**]"
   ]
  },
  {
   "cell_type": "markdown",
   "metadata": {},
   "source": [
    "## 7. Special symbols\n",
    "\n",
    "To write many common functions, use a backslash in front of the word. It won't always work, but we'll talk about troubleshooting in the next section.\n",
    "\n",
    "> ```$\\lim_{x \\to \\infty} \\frac{1}{x} = 0$```     \n",
    "> ```$ \\int x^2 = \\frac{x^3}{3}$```    \n",
    "\n",
    "> $\\lim_{x \\to \\infty} \\frac{1}{x} = 0$     \n",
    "> $ \\int x^2 = \\frac{x^3}{3}$    \n",
    "\n",
    "### Tasks 7\n",
    "\n",
    "* **Task 7.1**. Write down a LaTeX formula for the Pythagoras formula involving tangent and secant."
   ]
  },
  {
   "cell_type": "markdown",
   "metadata": {},
   "source": [
    "[**Double click here. Your formula here.**]"
   ]
  },
  {
   "cell_type": "markdown",
   "metadata": {},
   "source": [
    "* **Task 7.2**. Write down [the value of arctan of 1](https://www.rapidtables.com/math/trigonometry/arctan.html)."
   ]
  },
  {
   "cell_type": "markdown",
   "metadata": {},
   "source": [
    "[**Double click here. Your formula here.**]"
   ]
  },
  {
   "cell_type": "markdown",
   "metadata": {},
   "source": [
    "* Task 7.3. The limit in the first example looks a bit off. Use double dollar signs to get the formula to appear in display mode. This will naturally give beautifully formatted formulas.\n",
    "\n",
    "**Challenge**: Find out (by searching the internet) how to display math inline, but in *display mode*."
   ]
  },
  {
   "cell_type": "markdown",
   "metadata": {},
   "source": [
    "$\\lim_{x \\to \\infty} \\frac{1}{x} = 0$"
   ]
  },
  {
   "cell_type": "markdown",
   "metadata": {},
   "source": [
    "## 8. Looking up unknown symbols\n",
    "\n",
    "LaTeX supports a *lot* of symbols, and you don't need to memorize them. You'll naturally learn the ones you use, and for all the others, you can look them up online.\n",
    "\n",
    "There are [lists of common symbols](https://oeis.org/wiki/List_of_LaTeX_mathematical_symbols).\n",
    "\n",
    "You can also use [DeTexify](http://detexify.kirelabs.org/classify.html) to draw the symbols and have the computer guess what you're writing!\n",
    "\n",
    "### Tasks 8\n",
    "\n",
    "* **Task 8.1**. Write down a LaTeX formula for the fact that sine is always greater than its argument, for positive arguments."
   ]
  },
  {
   "cell_type": "markdown",
   "metadata": {},
   "source": [
    "[**Double click here. Your formula here.**]"
   ]
  },
  {
   "cell_type": "markdown",
   "metadata": {},
   "source": [
    "* **Task 8.2**. Find the symbol for the natural numbers."
   ]
  },
  {
   "cell_type": "markdown",
   "metadata": {},
   "source": [
    "[**Double click here. Your formula here.**]"
   ]
  },
  {
   "cell_type": "markdown",
   "metadata": {},
   "source": [
    "## 9. Using LaTeX in other places.\n",
    "\n",
    "[Overleaf](https://www.overleaf.com/) is the standard online editor for LaTeX, and is supported by many scientific journals.\n",
    "\n",
    "In Piazza, an online discussion board, you can include LaTeX formulas in discussion posts by using ```$$ 1+1=2 $$```. Piazza does not support in-line LaTeX. \n",
    "\n"
   ]
  },
  {
   "cell_type": "markdown",
   "metadata": {},
   "source": [
    "* **Task 9.1**. \n",
    "1. Open an [Overleaf](https://www.overleaf.com/) account.\n",
    "2. Download example files from [here](https://tinyurl.com/ur-latex-files)\n",
    "3. Go to overleaf, start new project, click `upload`\n",
    "![](https://i.imgur.com/4oNOmAM.png)"
   ]
  },
  {
   "cell_type": "markdown",
   "metadata": {},
   "source": []
  },
  {
   "cell_type": "markdown",
   "metadata": {},
   "source": [
    "## 10. Next steps and Reflection\n",
    "\n",
    "You are well on the way to writing beautiful, readable math text. Your next step is to dive write in and write something in LaTeX. \n",
    "\n",
    "* Make a comment on a math blog, \n",
    "* Write up a short homework in Overleaf, or \n",
    "* Edit a Wikipedia article about math.\n",
    "\n",
    "Take a moment to think about a place you might use LaTeX in the future. How long do you think it will take to use LaTeX in that context the first time you use it?\n",
    "\n",
    "![](https://i.stack.imgur.com/SFhtj.jpg)\n",
    "\n",
    "For more resources check out:\n",
    "\n",
    "* [MATH 210 course textbook](https://www.math.ubc.ca/~pwalls/math-python/jupyter/latex/). This course is entirely done on Jupyter notebooks, and this is the section that introduces how to use LaTeX.\n",
    "* [Markdown & LaTeX - Jupyter Video Tutorial](https://www.youtube.com/watch?v=-F4WS8o-G2A)."
   ]
  },
  {
   "cell_type": "code",
   "execution_count": null,
   "metadata": {},
   "outputs": [],
   "source": []
  }
 ],
 "metadata": {
  "kernelspec": {
   "display_name": "Python 3",
   "language": "python",
   "name": "python3"
  },
  "language_info": {
   "codemirror_mode": {
    "name": "ipython",
    "version": 3
   },
   "file_extension": ".py",
   "mimetype": "text/x-python",
   "name": "python",
   "nbconvert_exporter": "python",
   "pygments_lexer": "ipython3",
   "version": "3.8.5"
  }
 },
 "nbformat": 4,
 "nbformat_minor": 2
}
